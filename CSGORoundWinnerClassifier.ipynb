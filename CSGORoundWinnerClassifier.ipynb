{
 "cells": [
  {
   "cell_type": "code",
   "execution_count": 1,
   "metadata": {},
   "outputs": [],
   "source": [
    "### Load CSV ###\n",
    "\n",
    "import pandas as pd\n",
    "import numpy as np\n",
    "pd.set_option('display.max_columns', None)\n",
    "\n",
    "df = pd.read_csv('csgo_round_snapshots.csv')"
   ]
  },
  {
   "cell_type": "code",
   "execution_count": 2,
   "metadata": {},
   "outputs": [],
   "source": [
    "### Prepare Data ###\n",
    "\n",
    "dfCategorical = pd.get_dummies(df)\n",
    "\n",
    "dfCategorical['bomb_planted'] = dfCategorical['bomb_planted'].astype(int) # Replace boolean column by numbers\n",
    "\n",
    "# Drop useless columns (avoid data redundancy or column with unique value)\n",
    "dfCategorical = dfCategorical.drop(['map_de_vertigo', 'round_winner_T', 'ct_weapon_bizon', 'ct_weapon_g3sg1', 't_weapon_m249', 'ct_weapon_negev', 'ct_weapon_r8revolver', 'ct_weapon_sawedoff'], axis=1)\n",
    "\n",
    "y = dfCategorical['round_winner_CT']\n",
    "X = dfCategorical.drop('round_winner_CT', axis=1)\n",
    "\n",
    "from sklearn.model_selection import train_test_split\n",
    "from sklearn.preprocessing import StandardScaler\n",
    "\n",
    "X_train, X_test, y_train, y_test = train_test_split(X, y, test_size=0.3, random_state=42)\n",
    "\n",
    "scaler = StandardScaler().fit(X_train)\n",
    "X_train = scaler.transform(X_train)\n",
    "X_test = scaler.transform(X_test)"
   ]
  },
  {
   "cell_type": "code",
   "execution_count": 3,
   "metadata": {},
   "outputs": [
    {
     "name": "stdout",
     "output_type": "stream",
     "text": [
      "CPU times: user 1h 2min 23s, sys: 13 s, total: 1h 2min 37s\n",
      "Wall time: 1h 2min 53s\n",
      "{'n_neighbors': 2}   0.8263564059105809\n"
     ]
    }
   ],
   "source": [
    "### Model ###\n",
    "\n",
    "from sklearn.tree import DecisionTreeClassifier\n",
    "from sklearn.neighbors import KNeighborsClassifier\n",
    "from sklearn.model_selection import GridSearchCV\n",
    "\n",
    "#params = {'max_depth': np.arange(1, 10)}\n",
    "params = {'n_neighbors': np.arange(2, 9, 2)}\n",
    "\n",
    "model = KNeighborsClassifier()\n",
    "\n",
    "gscv = GridSearchCV(model, params)\n",
    "\n",
    "%time gscv.fit(X_train, y_train)\n",
    "\n",
    "print(gscv.best_params_, \" \", gscv.best_score_)\n",
    "\n",
    "y_pred = gscv.predict(X_test)"
   ]
  },
  {
   "cell_type": "code",
   "execution_count": 4,
   "metadata": {},
   "outputs": [
    {
     "name": "stdout",
     "output_type": "stream",
     "text": [
      "[[17654  1015]\n",
      " [ 4679 13375]]\n",
      "              precision    recall  f1-score   support\n",
      "\n",
      "           0       0.79      0.95      0.86     18669\n",
      "           1       0.93      0.74      0.82     18054\n",
      "\n",
      "    accuracy                           0.84     36723\n",
      "   macro avg       0.86      0.84      0.84     36723\n",
      "weighted avg       0.86      0.84      0.84     36723\n",
      "\n",
      "[0.81129653 0.81374723 0.81612884 0.81000175 0.81402813]\n"
     ]
    }
   ],
   "source": [
    "### Metrics ###\n",
    "\n",
    "from sklearn.metrics import confusion_matrix\n",
    "from sklearn.metrics import classification_report\n",
    "from sklearn.model_selection import cross_val_score\n",
    "\n",
    "print(confusion_matrix(y_test, y_pred))\n",
    "print(classification_report(y_test, y_pred))\n",
    "print(cross_val_score(model, X_train, y_train, cv=5))"
   ]
  },
  {
   "cell_type": "code",
   "execution_count": null,
   "metadata": {},
   "outputs": [],
   "source": []
  }
 ],
 "metadata": {
  "kernelspec": {
   "display_name": "Python 3",
   "language": "python",
   "name": "python3"
  },
  "language_info": {
   "codemirror_mode": {
    "name": "ipython",
    "version": 3
   },
   "file_extension": ".py",
   "mimetype": "text/x-python",
   "name": "python",
   "nbconvert_exporter": "python",
   "pygments_lexer": "ipython3",
   "version": "3.7.3"
  }
 },
 "nbformat": 4,
 "nbformat_minor": 4
}
